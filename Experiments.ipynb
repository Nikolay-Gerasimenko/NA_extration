{
 "cells": [
  {
   "cell_type": "code",
   "execution_count": null,
   "metadata": {},
   "outputs": [],
   "source": [
    "import re\n",
    "import json\n",
    "from bs4 import BeautifulSoup\n",
    "import pandas as pd"
   ]
  },
  {
   "cell_type": "code",
   "execution_count": null,
   "metadata": {},
   "outputs": [],
   "source": [
    "document_names = [\n",
    "                    'Определение Верховного Суда РФ от 10.12.2018 N 310-ЭС18-1678.htm',\n",
    "                    'Определение Верховного Суда РФ от 10.12.2018 N 305-ЭС18-1282.htm',\n",
    "                    'Определение Верховного Суда РФ от 10.12.2018 N 305-ЭС18-1564.htm',\n",
    "                    'Определение Верховного Суда РФ от 10.12.2018 N 305-ЭС18-1703.htm',\n",
    "                    'Определение Верховного Суда РФ от 10.12.2018 N 305-ЭС18-1726.htm',\n",
    "                    'Определение Верховного Суда РФ от 10.12.2018 N 306-ЭС17-2034.htm',\n",
    "                    'Определение Верховного Суда РФ от 10.12.2018 N 306-ЭС18-8105.htm',\n",
    "                    'Определение Верховного Суда РФ от 10.12.2018 N 307-ЭС18-1126.htm',\n",
    "                    'Определение Верховного Суда РФ от 10.12.2018 N 308-ЭС17-1033.htm',\n",
    "                    'Определение Верховного Суда РФ от 13.12.2018 по делу N 305-Э.htm',\n",
    "                    'Определение Верховного Суда РФ от 11.12.2018 N 305-ЭС18-1761.htm',\n",
    "                    'Определение Верховного Суда РФ от 11.12.2018 N 5-КГ18-247 Тр.htm',\n",
    "                    'Определение Верховного Суда РФ от 12.12.2018 N 305-ЭС18-1664.htm',\n",
    "                    'Определение Верховного Суда РФ от 12.12.2018 N 305-ЭС18-1690.htm',\n",
    "                    'Определение Верховного Суда РФ от 13.12.2018 N 301-ЭС18-1341.htm',\n",
    "                    'Определение Верховного Суда РФ от 13.12.2018 N 305-ЭС18-1411.htm',\n",
    "                    'Определение Верховного Суда РФ от 13.12.2018 N 305-АД18-1492.htm',\n",
    "                    'Определение Верховного Суда РФ от 13.12.2018 N 305-ЭС18-5703.htm',\n",
    "                    'Определение Верховного Суда РФ от 13.12.2018 по делу N 303-Э.htm',\n",
    "                    'Определение Верховного Суда РФ от 13.12.2018 по делу N 308-Э.htm',\n",
    "                ]"
   ]
  },
  {
   "cell_type": "code",
   "execution_count": null,
   "metadata": {},
   "outputs": [],
   "source": [
    "df = pd.read_excel('./разметка.xlsx')\n",
    "# df.to_excel('./разметка.xlsx')"
   ]
  },
  {
   "cell_type": "code",
   "execution_count": null,
   "metadata": {},
   "outputs": [],
   "source": [
    "def get_text_from_file(document_name):\n",
    "    soup = BeautifulSoup(open(document_name), \"lxml\")\n",
    "    temp = soup.getText()[soup.getText().find('ВЕРХОВНЫЙ СУД РОССИЙСКОЙ ФЕДЕРАЦИИ'):]\n",
    "    text = temp[:temp.find('Документ предоставлен КонсультантПлюс')]\n",
    "    return text"
   ]
  },
  {
   "cell_type": "code",
   "execution_count": null,
   "metadata": {},
   "outputs": [],
   "source": [
    "with open('codes_regexp_patterns.json', 'r', encoding='utf-8') as f:\n",
    "    codes_regexp_patterns = json.load(f)\n",
    "with open('na_levels_regexp_patterns.json', 'r', encoding='utf-8') as f:\n",
    "    na_levels_regexp_patterns = json.load(f)"
   ]
  },
  {
   "cell_type": "code",
   "execution_count": null,
   "metadata": {},
   "outputs": [],
   "source": [
    "def get_marked_text(text):\n",
    "    patterns = {**na_levels_regexp_patterns, **codes_regexp_patterns}\n",
    "    for na_level in patterns:\n",
    "        text = re.sub(patterns[na_level], na_level, text)\n",
    "    return text"
   ]
  },
  {
   "cell_type": "code",
   "execution_count": null,
   "metadata": {},
   "outputs": [],
   "source": [
    "def get_na_strings(marked_text):\n",
    "    other_simbols = ['-', '\\s', ',', 'и', '\\.', '\\d']\n",
    "    start_form = '(' + '|'.join(['(' + form + '[' + ''.join(other_simbols) + ']+)' for form in na_levels_regexp_patterns]) + ')+'\n",
    "    end_form = '(' + '|'.join(['(' + form + ')' for form in codes_regexp_patterns]) + ')'\n",
    "    na_string_pattern = re.compile(start_form + end_form)\n",
    "    return [marked_text[na_string.start():na_string.end()] for na_string in na_string_pattern.finditer(marked_text)]"
   ]
  },
  {
   "cell_type": "code",
   "execution_count": null,
   "metadata": {},
   "outputs": [],
   "source": [
    "def get_na_strings(text, get_pos=False):\n",
    "    other_simbols = ['-', '\\s', ',', 'и', '\\.', '\\d']\n",
    "    start_form = '(' + '|'.join(['(' + form + '[' + ''.join(other_simbols) + ']+)' for form in na_levels_regexp_patterns.values()]) + ')+'\n",
    "    end_form = '(' + '|'.join(['(' + form + ')' for form in codes_regexp_patterns.values()]) + ')'\n",
    "    na_string_pattern = re.compile(start_form + end_form)\n",
    "    if get_pos:\n",
    "        return [(na_string.start(),na_string.end()) for na_string in na_string_pattern.finditer(text)]\n",
    "    else:\n",
    "        return [text[na_string.start():na_string.end()] for na_string in na_string_pattern.finditer(text)]"
   ]
  },
  {
   "cell_type": "code",
   "execution_count": null,
   "metadata": {},
   "outputs": [],
   "source": [
    "def are_equal(res1, res2):\n",
    "    res = True\n",
    "    for element in res1:\n",
    "        if element not in res2:\n",
    "            res = False\n",
    "    for element in res2:\n",
    "        if element not in res1:\n",
    "            res = False\n",
    "    return res"
   ]
  },
  {
   "cell_type": "code",
   "execution_count": null,
   "metadata": {},
   "outputs": [],
   "source": [
    "for i in range(len(document_names)):\n",
    "    document_name = document_names[i]\n",
    "    my_res = get_na_strings(get_text_from_file(document_name))\n",
    "    validate_res = [na_string for na_string in list(df[df['document']==document_name]['entity'])]\n",
    "    print(are_equal(my_res, validate_res))"
   ]
  },
  {
   "cell_type": "code",
   "execution_count": null,
   "metadata": {},
   "outputs": [],
   "source": [
    "i=12\n",
    "document_name = document_names[i]\n",
    "my_res = get_na_strings(get_text_from_file(document_name), get_pos=False)\n",
    "validate_res = [na_string for na_string in list(df[df['document']==document_name]['entity'])]\n",
    "print(document_name)\n",
    "print(my_res == validate_res)\n",
    "print('len of my_res: {}'.format(len(my_res)))\n",
    "print('len of validate_res: {}'.format(len(validate_res)))\n",
    "my_res"
   ]
  },
  {
   "cell_type": "code",
   "execution_count": null,
   "metadata": {},
   "outputs": [],
   "source": [
    "validate_res"
   ]
  },
  {
   "cell_type": "code",
   "execution_count": null,
   "metadata": {},
   "outputs": [],
   "source": [
    "validate_res = [get_marked_text(na_string) for na_string in list(df[df['document']==document_name]['entity'])]"
   ]
  },
  {
   "cell_type": "code",
   "execution_count": null,
   "metadata": {
    "scrolled": true
   },
   "outputs": [],
   "source": [
    "get_text_from_file(document_name)[9080:9159]"
   ]
  },
  {
   "cell_type": "code",
   "execution_count": null,
   "metadata": {},
   "outputs": [],
   "source": [
    "import re"
   ]
  },
  {
   "cell_type": "code",
   "execution_count": null,
   "metadata": {},
   "outputs": [],
   "source": [
    "import json\n",
    "\n",
    "codes_regexp_patterns = {\n",
    "                            'CodeOfAdministrativeOffenses' : 'А(дминистративно-)?[пП](равового)?\\s?[кК](одекса)?(\\sР(оссийской)?\\s?Ф(едерации)?)?',\n",
    "                            'CivilCode'                    : 'Г(ражданского)?\\s?[кК](одекса)?(\\sР(оссийской)?\\s?Ф(едерации)?)?',\n",
    "                            'CodeOfCommercialProcedure'    : 'А(рбитражного )?[пП](роцессуального)?\\s?[кК](одекса)?(\\sР(оссийской)?\\s?Ф(едерации)?)?',\n",
    "                            'BudgetCode'                   : 'Б(юджетного)?\\s?[кК](одекса)?(\\sР(оссийской)?\\s?Ф(едерации)?)?',\n",
    "                            'AirCode'                      : 'В(оздушного)?\\s?[кК](одекса)?(\\sР(оссийской)?\\s?Ф(едерации)?)?',\n",
    "                            'CodeOfAdministrativeOffenses' : '[кК](одекса)?(\\\\sР(оссийской)?\\\\s?Ф(едерации)?)?\\\\s?[оО]б?\\\\s?[аА](дминистративных)?\\\\s?[пП](равонарушениях)?(\\\\sР(оссийской)?\\\\s?Ф(едерации)?)?',\n",
    "                            'TaxCode'                      : '[нН](алогового)?\\s?[кК](одекса)?(\\sР(оссийской)?\\s?Ф(едерации)?)?',\n",
    "                            'CodeofCivilProcedure'         : 'Г(ражданского )?[пП](роцессуального)?\\s?[кК](одекса)?(\\sР(оссийской)?\\s?Ф(едерации)?)?',\n",
    "                            'LandCode'                     : 'З(емельного)?\\s?[кК](одекса)?(\\sР(оссийской)?\\s?Ф(едерации)?)?'\n",
    "                        }\n",
    "na_levels_regexp_patterns = {\n",
    "                        'Paragraph'   :    '(([аА]бз\\.)|([аА]бзац[ыауе]?м?))',\n",
    "                        'SubSection'  :    '(([пП]одп\\.)|([пП]одпункт[ыуеао]?[мв]?))',\n",
    "                        'Section'     :    '(([пП]\\.)|([пП]ункт[ыуеао]?[хмв]?))',\n",
    "                        'ArticlePart' :    '(([чЧ]\\.)|([чЧ]аст[еьи][йю]?))',\n",
    "                        'Article'     :    '(([сС]т\\.)|([сС]тать?[еяию]м?[ий]?))',\n",
    "                        'CodeChapter' :    '(([гГ]л\\.)|([гГ]лав[аыо]й?))',\n",
    "                             }\n",
    "\n",
    "json.dump(codes_regexp_patterns, open('codes_regexp_patterns.json', 'w'), ensure_ascii=False)\n",
    "json.dump(na_levels_regexp_patterns, open('na_levels_regexp_patterns.json', 'w'), ensure_ascii=False)"
   ]
  },
  {
   "cell_type": "code",
   "execution_count": null,
   "metadata": {},
   "outputs": [],
   "source": [
    "code_pattern = '|'.join(['(' + code + ')' for code in codes_regexp_patterns.values()])\n",
    "re.sub(code_pattern, 'CODE', 'частей 2 и 3 статьи 53 Гражданского процессуального кодекса Российской Федерации')"
   ]
  },
  {
   "cell_type": "code",
   "execution_count": 1,
   "metadata": {},
   "outputs": [],
   "source": [
    "from LegalDocument import LegalDocument as LD"
   ]
  },
  {
   "cell_type": "code",
   "execution_count": 2,
   "metadata": {},
   "outputs": [],
   "source": [
    "na_strings = ['частью 10 статьи 12.21.1 Кодекса Российской Федерации об административных правонарушениях', 'частью 10 статьи 12.21.1 Кодекса Российской Федерации об административных правонарушениях', 'частью 10 статьи 12.21.1 Кодекса Российской Федерации об административных правонарушениях', 'частью 10 статьи 12.21.1 Кодекса Российской Федерации об административных правонарушениях', 'частью 3 статьи 12.21.1 Кодекса Российской Федерации об административных правонарушениях', 'статьи 26.11 Кодекса Российской Федерации об административных правонарушениях', 'частью 10 статьи 12.21.1 Кодекса Российской Федерации об административных правонарушениях', 'частью 2 статьи 2.1 Кодекса Российской Федерации об административных правонарушениях', 'частью 10 статьи 12.21.1 Кодекса Российской Федерации об административных правонарушениях', 'статьи 24.1 Кодекса Российской Федерации об административных правонарушениях', 'статьями 3.1, 3.5, 4.1 - 4.3 Кодекса Российской Федерации об административных правонарушениях', 'частью 1 статьи 4.5 Кодекса Российской Федерации об административных правонарушениях', 'статьями 30.6, 30.9, 30.16 Кодекса Российской Федерации об административных правонарушениях', 'пунктов 2 - 4 части 2 статьи 30.17 Кодекса Российской Федерации об административных правонарушениях', 'статьи 30.13 и 30.17 Кодекса Российской Федерации об административных правонарушениях', 'частью 10 статьи 12.21.1 Кодекса Российской Федерации об административных правонарушениях']"
   ]
  },
  {
   "cell_type": "code",
   "execution_count": 3,
   "metadata": {},
   "outputs": [
    {
     "name": "stdout",
     "output_type": "stream",
     "text": [
      "частью 10 статьи 12.21.1 Кодекса Российской Федерации об административных правонарушениях\n",
      "частью 10 статьи 12.21.1 Кодекса Российской Федерации об административных правонарушениях\n",
      "частью 10 статьи 12.21.1 Кодекса Российской Федерации об административных правонарушениях\n",
      "частью 10 статьи 12.21.1 Кодекса Российской Федерации об административных правонарушениях\n",
      "частью 3 статьи 12.21.1 Кодекса Российской Федерации об административных правонарушениях\n",
      "статьи 26.11 Кодекса Российской Федерации об административных правонарушениях\n",
      "частью 10 статьи 12.21.1 Кодекса Российской Федерации об административных правонарушениях\n",
      "частью 2 статьи 2.1 Кодекса Российской Федерации об административных правонарушениях\n",
      "частью 10 статьи 12.21.1 Кодекса Российской Федерации об административных правонарушениях\n",
      "статьи 24.1 Кодекса Российской Федерации об административных правонарушениях\n",
      "статьями 3.1, 3.5, 4.1 - 4.3 Кодекса Российской Федерации об административных правонарушениях\n",
      "частью 1 статьи 4.5 Кодекса Российской Федерации об административных правонарушениях\n",
      "статьями 30.6, 30.9, 30.16 Кодекса Российской Федерации об административных правонарушениях\n",
      "пунктов 2 - 4 части 2 статьи 30.17 Кодекса Российской Федерации об административных правонарушениях\n",
      "статьи 30.13 и 30.17 Кодекса Российской Федерации об административных правонарушениях\n",
      "частью 10 статьи 12.21.1 Кодекса Российской Федерации об административных правонарушениях\n"
     ]
    }
   ],
   "source": [
    "for na_string in na_strings:\n",
    "    print(na_string)\n",
    "    ld = LD(na_string)\n",
    "    ld.na_list"
   ]
  },
  {
   "cell_type": "code",
   "execution_count": null,
   "metadata": {},
   "outputs": [],
   "source": [
    "ld = LD('пунктов 2 - 3 части 2 статьи 30.17 Кодекса Российской Федерации об административных правонарушениях')\n",
    "ld.na_list"
   ]
  },
  {
   "cell_type": "code",
   "execution_count": null,
   "metadata": {},
   "outputs": [],
   "source": [
    "i=10"
   ]
  },
  {
   "cell_type": "code",
   "execution_count": null,
   "metadata": {
    "scrolled": true
   },
   "outputs": [],
   "source": [
    "i+=1\n",
    "print(i)\n",
    "document_name = document_names[i]\n",
    "lg = LG(get_text_from_file(document_name))\n",
    "# lg.get_marked_na_string('ст. 387 Гражданского процессуального кодекса Российской Федерации')\n",
    "lg.get_na_strings(get_text_from_file(document_name))"
   ]
  },
  {
   "cell_type": "code",
   "execution_count": null,
   "metadata": {
    "scrolled": true
   },
   "outputs": [],
   "source": [
    "lg.na_list"
   ]
  },
  {
   "cell_type": "code",
   "execution_count": null,
   "metadata": {},
   "outputs": [],
   "source": []
  },
  {
   "cell_type": "code",
   "execution_count": null,
   "metadata": {},
   "outputs": [],
   "source": [
    "with open('./словарь юридических терминов.txt') as f:\n",
    "    terms = f.read().split('\\n')\n",
    "# terms"
   ]
  },
  {
   "cell_type": "code",
   "execution_count": null,
   "metadata": {},
   "outputs": [],
   "source": [
    "import pymorphy2\n",
    "morph = pymorphy2.MorphAnalyzer()\n",
    "normalized_terms = [[morph.parse(word)[0].normal_form for word in term.split(' ')] for term in terms]\n",
    "normalized_terms"
   ]
  },
  {
   "cell_type": "code",
   "execution_count": null,
   "metadata": {},
   "outputs": [],
   "source": [
    "document_name = document_names[0]\n",
    "# text = get_text_from_file(document_name)\n",
    "# text = re.sub('\\.+\\s?', '.', text.replace('\\n', '.'))\n",
    "paragraphs = text.replace('\\n\\n', '\\n').replace('руб.','руб').replace('мкр.','руб').replace('д.', 'д').split('\\n')\n",
    "# sentences = \n",
    "paragraphs\n",
    "\n",
    "normalized_sentences = [[morph.parse(word)[0].normal_form for word in word_tokenize(sentence)] for paragraph in paragraphs if paragraph for sentence in sent_tokenize(paragraph)]\n",
    "normalized_sentences"
   ]
  },
  {
   "cell_type": "code",
   "execution_count": null,
   "metadata": {},
   "outputs": [],
   "source": [
    "from nltk.tokenize import sent_tokenize\n",
    "from nltk.tokenize import word_tokenize\n",
    "import nltk"
   ]
  },
  {
   "cell_type": "code",
   "execution_count": null,
   "metadata": {},
   "outputs": [],
   "source": [
    "text += 'аутсортинг'\n",
    "text"
   ]
  },
  {
   "cell_type": "code",
   "execution_count": null,
   "metadata": {},
   "outputs": [],
   "source": [
    "def is_list_contains_list(list_1, list_2):\n",
    "    for element in list_2:\n",
    "        if element not in list_1:\n",
    "            return False\n",
    "    return True"
   ]
  },
  {
   "cell_type": "code",
   "execution_count": null,
   "metadata": {},
   "outputs": [],
   "source": [
    "list1 = [1,2,3,4]\n",
    "list2 = [2,4,5]\n",
    "is_list_contains_list(['аутсортинг', 'fff'], ['аутсортинг'])"
   ]
  },
  {
   "cell_type": "code",
   "execution_count": null,
   "metadata": {},
   "outputs": [],
   "source": [
    "set([is_list_contains_list(sentence, term) for term in normalized_terms for sentence in normalized_sentences])"
   ]
  },
  {
   "cell_type": "code",
   "execution_count": null,
   "metadata": {},
   "outputs": [],
   "source": [
    "terms"
   ]
  },
  {
   "cell_type": "code",
   "execution_count": null,
   "metadata": {},
   "outputs": [],
   "source": []
  }
 ],
 "metadata": {
  "kernelspec": {
   "display_name": "Python 3",
   "language": "python",
   "name": "python3"
  },
  "language_info": {
   "codemirror_mode": {
    "name": "ipython",
    "version": 3
   },
   "file_extension": ".py",
   "mimetype": "text/x-python",
   "name": "python",
   "nbconvert_exporter": "python",
   "pygments_lexer": "ipython3",
   "version": "3.6.5"
  }
 },
 "nbformat": 4,
 "nbformat_minor": 2
}
